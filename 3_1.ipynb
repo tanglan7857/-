{
  "nbformat": 4,
  "nbformat_minor": 0,
  "metadata": {
    "colab": {
      "name": "Untitled1.ipynb",
      "version": "0.3.2",
      "provenance": [],
      "include_colab_link": true
    },
    "kernelspec": {
      "name": "python3",
      "display_name": "Python 3"
    }
  },
  "cells": [
    {
      "cell_type": "markdown",
      "metadata": {
        "id": "view-in-github",
        "colab_type": "text"
      },
      "source": [
        "<a href=\"https://colab.research.google.com/github/tanglan7857/-/blob/master/3_1.ipynb\" target=\"_parent\"><img src=\"https://colab.research.google.com/assets/colab-badge.svg\" alt=\"Open In Colab\"/></a>"
      ]
    },
    {
      "metadata": {
        "id": "XGa9NsauEeZZ",
        "colab_type": "code",
        "colab": {}
      },
      "cell_type": "code",
      "source": [
        "from keras.datasets import imdb\n",
        "(train_data,train_labels),(test_data,test_labels) = imdb.load_data(num_words = 10000)"
      ],
      "execution_count": 0,
      "outputs": []
    },
    {
      "metadata": {
        "id": "YkxcTr87Jv3w",
        "colab_type": "code",
        "colab": {}
      },
      "cell_type": "code",
      "source": [
        "y_train = np.asarray(train_labels).astype('float32')\n",
        "y_test = np.asarray(test_labels).astype('float32')"
      ],
      "execution_count": 0,
      "outputs": []
    },
    {
      "metadata": {
        "id": "vNEhi0OcJUeJ",
        "colab_type": "code",
        "colab": {}
      },
      "cell_type": "code",
      "source": [
        "from keras import models\n",
        "from keras import layers\n",
        "\n",
        "model = models.Sequential()\n",
        "model.add(layers.Dense(16,activation='relu',input_shape=(10000,)))\n",
        "model.add(layers.Dense(16,activation='relu'))\n",
        "model.add(layers.Dense(1,activation='sigmoid'))"
      ],
      "execution_count": 0,
      "outputs": []
    },
    {
      "metadata": {
        "id": "vM8L0-aTHIX3",
        "colab_type": "code",
        "colab": {}
      },
      "cell_type": "code",
      "source": [
        "import numpy as np\n",
        "def vectorize_sequences(sequences, dimension=10000):\n",
        "    results = np.zeros((len(sequences), dimension))   \n",
        "    for i, sequence in enumerate(sequences): \n",
        "        results[i, sequence] = 1.\n",
        "    return results \n",
        "  \n",
        "x_train = vectorize_sequences(train_data)\n",
        "x_test = vectorize_sequences(test_data)  \n",
        "x_train[0]  "
      ],
      "execution_count": 0,
      "outputs": []
    },
    {
      "metadata": {
        "id": "K1GZsC8pQXfR",
        "colab_type": "code",
        "colab": {}
      },
      "cell_type": "code",
      "source": [
        "x_val = x_train[:10000]\n",
        "partion_x_train = x_train[10000:]\n",
        "y_val = y_train[:10000]\n",
        "partion_y_train = y_train[10000:]\n"
      ],
      "execution_count": 0,
      "outputs": []
    },
    {
      "metadata": {
        "id": "SfULbq16KjaW",
        "colab_type": "code",
        "colab": {
          "base_uri": "https://localhost:8080/",
          "height": 829
        },
        "outputId": "7cde21a5-6e2e-406a-e289-b73ebeab7c37"
      },
      "cell_type": "code",
      "source": [
        "from keras import losses \n",
        "from keras import metrics  \n",
        "\n",
        "model.compile(optimizer='rmsprop',loss='binary_crossentropy',metrics=['acc']) \n",
        "history = model.fit(partion_x_train,partion_y_train,epochs=20,batch_size=512,validation_data=(x_val,y_val))\n"
      ],
      "execution_count": 18,
      "outputs": [
        {
          "output_type": "stream",
          "text": [
            "WARNING:tensorflow:From /usr/local/lib/python3.6/dist-packages/tensorflow/python/ops/math_ops.py:3066: to_int32 (from tensorflow.python.ops.math_ops) is deprecated and will be removed in a future version.\n",
            "Instructions for updating:\n",
            "Use tf.cast instead.\n",
            "Train on 15000 samples, validate on 10000 samples\n",
            "Epoch 1/20\n",
            "15000/15000 [==============================] - 4s 287us/step - loss: 0.5048 - acc: 0.7871 - val_loss: 0.3775 - val_acc: 0.8704\n",
            "Epoch 2/20\n",
            "15000/15000 [==============================] - 3s 171us/step - loss: 0.2991 - acc: 0.9047 - val_loss: 0.3001 - val_acc: 0.8897\n",
            "Epoch 3/20\n",
            "15000/15000 [==============================] - 3s 169us/step - loss: 0.2173 - acc: 0.9284 - val_loss: 0.3079 - val_acc: 0.8716\n",
            "Epoch 4/20\n",
            "15000/15000 [==============================] - 3s 170us/step - loss: 0.1747 - acc: 0.9437 - val_loss: 0.2825 - val_acc: 0.8845\n",
            "Epoch 5/20\n",
            "15000/15000 [==============================] - 3s 170us/step - loss: 0.1422 - acc: 0.9541 - val_loss: 0.2855 - val_acc: 0.8857\n",
            "Epoch 6/20\n",
            "15000/15000 [==============================] - 3s 170us/step - loss: 0.1147 - acc: 0.9651 - val_loss: 0.3142 - val_acc: 0.8778\n",
            "Epoch 7/20\n",
            "15000/15000 [==============================] - 3s 169us/step - loss: 0.0977 - acc: 0.9707 - val_loss: 0.3131 - val_acc: 0.8842\n",
            "Epoch 8/20\n",
            "15000/15000 [==============================] - 3s 168us/step - loss: 0.0805 - acc: 0.9764 - val_loss: 0.3865 - val_acc: 0.8652\n",
            "Epoch 9/20\n",
            "15000/15000 [==============================] - 3s 169us/step - loss: 0.0660 - acc: 0.9821 - val_loss: 0.3641 - val_acc: 0.8779\n",
            "Epoch 10/20\n",
            "15000/15000 [==============================] - 3s 168us/step - loss: 0.0562 - acc: 0.9853 - val_loss: 0.3891 - val_acc: 0.8779\n",
            "Epoch 11/20\n",
            "15000/15000 [==============================] - 3s 169us/step - loss: 0.0429 - acc: 0.9894 - val_loss: 0.4220 - val_acc: 0.8761\n",
            "Epoch 12/20\n",
            "15000/15000 [==============================] - 3s 168us/step - loss: 0.0381 - acc: 0.9911 - val_loss: 0.4533 - val_acc: 0.8731\n",
            "Epoch 13/20\n",
            "15000/15000 [==============================] - 3s 169us/step - loss: 0.0254 - acc: 0.9960 - val_loss: 0.5169 - val_acc: 0.8632\n",
            "Epoch 14/20\n",
            "15000/15000 [==============================] - 3s 168us/step - loss: 0.0255 - acc: 0.9945 - val_loss: 0.5148 - val_acc: 0.8724\n",
            "Epoch 15/20\n",
            "15000/15000 [==============================] - 3s 169us/step - loss: 0.0211 - acc: 0.9961 - val_loss: 0.5346 - val_acc: 0.8702\n",
            "Epoch 16/20\n",
            "15000/15000 [==============================] - 3s 170us/step - loss: 0.0125 - acc: 0.9991 - val_loss: 0.5788 - val_acc: 0.8701\n",
            "Epoch 17/20\n",
            "15000/15000 [==============================] - 3s 169us/step - loss: 0.0138 - acc: 0.9975 - val_loss: 0.6101 - val_acc: 0.8689\n",
            "Epoch 18/20\n",
            "15000/15000 [==============================] - 3s 169us/step - loss: 0.0104 - acc: 0.9983 - val_loss: 0.6407 - val_acc: 0.8659\n",
            "Epoch 19/20\n",
            "15000/15000 [==============================] - 3s 169us/step - loss: 0.0054 - acc: 0.9998 - val_loss: 0.6939 - val_acc: 0.8607\n",
            "Epoch 20/20\n",
            "15000/15000 [==============================] - 3s 169us/step - loss: 0.0082 - acc: 0.9985 - val_loss: 0.7001 - val_acc: 0.8646\n"
          ],
          "name": "stdout"
        }
      ]
    },
    {
      "metadata": {
        "id": "nfnZjPt7TeQg",
        "colab_type": "code",
        "colab": {
          "base_uri": "https://localhost:8080/",
          "height": 377
        },
        "outputId": "16641d0a-267f-41fc-97f9-b55ce46a5dbe"
      },
      "cell_type": "code",
      "source": [
        "import matplotlib.pyplot as plt \n",
        "history_dict = history.history \n",
        "loss_values = history_dict['loss'] \n",
        "val_loss_values = history_dict['val_loss']  \n",
        "epochs = range(1, len(loss_values) + 1) \n",
        "plt.plot(epochs, loss_values, 'bo', label='Training loss')\n",
        "plt.plot(epochs, val_loss_values, 'b', label='Validation loss') \n",
        "plt.title('Training and validation loss') \n",
        "plt.xlabel('Epochs') \n",
        "plt.ylabel('Loss') \n",
        "plt.legend()  \n",
        "plt.show()"
      ],
      "execution_count": 19,
      "outputs": [
        {
          "output_type": "display_data",
          "data": {
            "image/png": "[encoded data removed]",
            "text/plain": [
              "<Figure size 576x396 with 1 Axes>"
            ]
          },
          "metadata": {
            "tags": []
          }
        }
      ]
    },
    {
      "metadata": {
        "id": "H80--f0ATotI",
        "colab_type": "code",
        "colab": {
          "base_uri": "https://localhost:8080/",
          "height": 377
        },
        "outputId": "1143ad50-43e1-425f-d5eb-998ba914c0f1"
      },
      "cell_type": "code",
      "source": [
        "plt.clf()    \n",
        "acc = history_dict['acc']  \n",
        "val_acc = history_dict['val_acc']  \n",
        "plt.plot(epochs, acc, 'bo', label='Training acc') \n",
        "plt.plot(epochs, val_acc, 'b', label='Validation acc') \n",
        "plt.title('Training and validation accuracy') \n",
        "plt.xlabel('Epochs') \n",
        "plt.ylabel('Accuracy') \n",
        "plt.legend()  \n",
        "plt.show()"
      ],
      "execution_count": 21,
      "outputs": [
        {
          "output_type": "display_data",
          "data": {
            "image/png": "[encoded data removed]",
            "text/plain": [
              "<Figure size 576x396 with 1 Axes>"
            ]
          },
          "metadata": {
            "tags": []
          }
        }
      ]
    },
    {
      "metadata": {
        "id": "VbzyiDW_UUsg",
        "colab_type": "code",
        "colab": {
          "base_uri": "https://localhost:8080/",
          "height": 179
        },
        "outputId": "92ec3c68-f48b-4f50-e685-9c0d9d9ab115"
      },
      "cell_type": "code",
      "source": [
        "model = models.Sequential()\n",
        "model.add(layers.Dense(16,activation='relu',input_shape=(10000,)))\n",
        "model.add(layers.Dense(16,activation='relu'))\n",
        "model.add(layers.Dense(1,activation='sigmoid'))\n",
        "\n",
        "model.compile(optimizer='rmsprop',loss='binary_crossentropy',metrics=['acc']) \n",
        "model.fit(x_train,y_train,epochs=4,batch_size=512)\n",
        "results = model.evaluate(x_test, y_test)\n",
        "\n"
      ],
      "execution_count": 22,
      "outputs": [
        {
          "output_type": "stream",
          "text": [
            "Epoch 1/4\n",
            "25000/25000 [==============================] - 4s 146us/step - loss: 0.4738 - acc: 0.8224\n",
            "Epoch 2/4\n",
            "25000/25000 [==============================] - 3s 121us/step - loss: 0.2674 - acc: 0.9092\n",
            "Epoch 3/4\n",
            "25000/25000 [==============================] - 3s 121us/step - loss: 0.2032 - acc: 0.9281\n",
            "Epoch 4/4\n",
            "25000/25000 [==============================] - 3s 120us/step - loss: 0.1712 - acc: 0.9390\n",
            "25000/25000 [==============================] - 2s 90us/step\n"
          ],
          "name": "stdout"
        }
      ]
    },
    {
      "metadata": {
        "id": "vna2T704VKso",
        "colab_type": "code",
        "colab": {
          "base_uri": "https://localhost:8080/",
          "height": 35
        },
        "outputId": "ca63417b-b6f6-4f34-93cc-5a87a8d4d54a"
      },
      "cell_type": "code",
      "source": [
        "results"
      ],
      "execution_count": 23,
      "outputs": [
        {
          "output_type": "execute_result",
          "data": {
            "text/plain": [
              "[0.3117345802497864, 0.87596]"
            ]
          },
          "metadata": {
            "tags": []
          },
          "execution_count": 23
        }
      ]
    },
    {
      "metadata": {
        "id": "MyxDliYyVYNi",
        "colab_type": "code",
        "colab": {
          "base_uri": "https://localhost:8080/",
          "height": 143
        },
        "outputId": "3d609cc5-97a6-49fa-ca32-6ea3a7dc82d8"
      },
      "cell_type": "code",
      "source": [
        " model.predict(x_test) "
      ],
      "execution_count": 24,
      "outputs": [
        {
          "output_type": "execute_result",
          "data": {
            "text/plain": [
              "array([[0.16178018],\n",
              "       [0.99985385],\n",
              "       [0.40019736],\n",
              "       ...,\n",
              "       [0.08254781],\n",
              "       [0.04924133],\n",
              "       [0.4586171 ]], dtype=float32)"
            ]
          },
          "metadata": {
            "tags": []
          },
          "execution_count": 24
        }
      ]
    }
  ]
}